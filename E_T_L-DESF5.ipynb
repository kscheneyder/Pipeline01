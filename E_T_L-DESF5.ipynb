{
 "cells": [
  {
   "cell_type": "code",
   "execution_count": 4,
   "id": "824ef73d-2c55-4541-9c49-fcb40ce91f98",
   "metadata": {},
   "outputs": [],
   "source": [
    "import os\n",
    "import requests\n",
    "import zipfile\n",
    "import pandas as pd"
   ]
  },
  {
   "cell_type": "code",
   "execution_count": 5,
   "id": "6b14ad2b-30a6-4507-8875-a982aaf98f3b",
   "metadata": {},
   "outputs": [],
   "source": [
    "url = 'https://github.com/ProfLeandroLessa/classroom-datasets/raw/master/CDD/TP/pesquisa_preferencias.zip'\n",
    " \n",
    "response = requests.get(url)"
   ]
  },
  {
   "cell_type": "code",
   "execution_count": 6,
   "id": "40ffae5f-68a4-4536-9b57-015d938827c9",
   "metadata": {},
   "outputs": [],
   "source": [
    "diretorio_destino = 'C:\\\\survey_data'\n",
    "\n",
    "if response.status_code == requests.codes.OK:\n",
    "    nome_arquivo_zip = url.split('/')[-1]\n",
    "    caminho_arquivo_zip = os.path.join(diretorio_destino, nome_arquivo_zip)"
   ]
  },
  {
   "cell_type": "code",
   "execution_count": 7,
   "id": "1127b46e-0b9f-41b0-ba26-ab8802277c42",
   "metadata": {},
   "outputs": [
    {
     "name": "stdout",
     "output_type": "stream",
     "text": [
      "Download finalizado. Salvo em C:\\survey_data\\pesquisa_preferencias.zip\n"
     ]
    }
   ],
   "source": [
    "with open(caminho_arquivo_zip,'wb') as arquivo:\n",
    "    arquivo.write(response.content)\n",
    "    print(\"Download finalizado. Salvo em {}\".format(caminho_arquivo_zip))"
   ]
  },
  {
   "cell_type": "code",
   "execution_count": 8,
   "id": "0dbd411c-3af0-400f-8764-5838c860a7d0",
   "metadata": {},
   "outputs": [
    {
     "name": "stdout",
     "output_type": "stream",
     "text": [
      "Arquivo ZIP descompactado em: C:\\survey_data\n"
     ]
    }
   ],
   "source": [
    "with zipfile.ZipFile(caminho_arquivo_zip, 'r') as zip_ref:\n",
    "    zip_ref.extractall(diretorio_destino)\n",
    "\n",
    "print(f\"Arquivo ZIP descompactado em: {diretorio_destino}\")"
   ]
  },
  {
   "cell_type": "code",
   "execution_count": 9,
   "id": "6b05e407-e941-45e7-bacc-d827ea2a1535",
   "metadata": {},
   "outputs": [],
   "source": [
    "#CRIAR UM ARQUIVO COM TODOS OS ARQUIVOS DA PASTA\n",
    "lista_arquivo = [] #cria uma lista em branco\n",
    "lista_path = os.listdir(diretorio_destino) #salva os nomes dos arquivos dentro da pasta"
   ]
  },
  {
   "cell_type": "code",
   "execution_count": 12,
   "id": "1accdccf-9ce2-4355-934c-8bf5e5a2b5dd",
   "metadata": {},
   "outputs": [
    {
     "name": "stdout",
     "output_type": "stream",
     "text": [
      "364\n"
     ]
    }
   ],
   "source": [
    "print(len(lista_path))"
   ]
  },
  {
   "cell_type": "code",
   "execution_count": 13,
   "id": "6924f16b-0d9a-43f8-bdba-99f241b825d2",
   "metadata": {},
   "outputs": [
    {
     "name": "stdout",
     "output_type": "stream",
     "text": [
      "C:\\survey_data\\pesquisa_preferencias.zip não é um arquivo CSV válido ou não existe\n"
     ]
    }
   ],
   "source": [
    "for arquivo in lista_path: #varre os arquivos na pasta e junta em um unico dataframe\n",
    "    local_arquivo = os.path.join(diretorio_destino, arquivo)\n",
    "    if os.path.isfile(local_arquivo) and local_arquivo.endswith('.csv'): #verifica se o arquivo é um csv válido\n",
    "        try:\n",
    "            df = pd.read_csv(local_arquivo, sep = '|', encoding = 'latin-1')\n",
    "            lista_arquivo.append(df)\n",
    "        except Exception as e:\n",
    "            print(f\"Erro ao ler arquivo {local_arquivo}:{e}\")\n",
    "    else:\n",
    "        print(f\"{local_arquivo} não é um arquivo CSV válido ou não existe\")"
   ]
  },
  {
   "cell_type": "code",
   "execution_count": 14,
   "id": "5e3fe3e1-19c6-4678-b983-c81c494022b8",
   "metadata": {},
   "outputs": [
    {
     "name": "stdout",
     "output_type": "stream",
     "text": [
      "363\n"
     ]
    }
   ],
   "source": [
    "print(len(lista_arquivo))"
   ]
  },
  {
   "cell_type": "code",
   "execution_count": 15,
   "id": "e596ad1d-bc80-4fb6-82cd-ff660628f0ec",
   "metadata": {},
   "outputs": [
    {
     "data": {
      "text/html": [
       "<div>\n",
       "<style scoped>\n",
       "    .dataframe tbody tr th:only-of-type {\n",
       "        vertical-align: middle;\n",
       "    }\n",
       "\n",
       "    .dataframe tbody tr th {\n",
       "        vertical-align: top;\n",
       "    }\n",
       "\n",
       "    .dataframe thead th {\n",
       "        text-align: right;\n",
       "    }\n",
       "</style>\n",
       "<table border=\"1\" class=\"dataframe\">\n",
       "  <thead>\n",
       "    <tr style=\"text-align: right;\">\n",
       "      <th></th>\n",
       "      <th>cod_pessoa</th>\n",
       "      <th>data_coleta</th>\n",
       "      <th>genero</th>\n",
       "      <th>data_nascimento</th>\n",
       "      <th>animal_estimacao</th>\n",
       "      <th>clima</th>\n",
       "      <th>bebida_favorita</th>\n",
       "      <th>hobbies</th>\n",
       "    </tr>\n",
       "  </thead>\n",
       "  <tbody>\n",
       "    <tr>\n",
       "      <th>0</th>\n",
       "      <td>10142416</td>\n",
       "      <td>2020-12-31</td>\n",
       "      <td>Masculino</td>\n",
       "      <td>1996-05-07</td>\n",
       "      <td>gato</td>\n",
       "      <td>frio</td>\n",
       "      <td>Cerveja</td>\n",
       "      <td>Pintar quadros</td>\n",
       "    </tr>\n",
       "    <tr>\n",
       "      <th>1</th>\n",
       "      <td>10142475</td>\n",
       "      <td>2020-12-31</td>\n",
       "      <td>Masculino</td>\n",
       "      <td>1955-05-30</td>\n",
       "      <td>peixe</td>\n",
       "      <td>quente</td>\n",
       "      <td>Café</td>\n",
       "      <td>Praticar esporte</td>\n",
       "    </tr>\n",
       "    <tr>\n",
       "      <th>2</th>\n",
       "      <td>10142522</td>\n",
       "      <td>2020-12-31</td>\n",
       "      <td>Masculino</td>\n",
       "      <td>1954-12-22</td>\n",
       "      <td>peixe</td>\n",
       "      <td>moderado</td>\n",
       "      <td>Cerveja</td>\n",
       "      <td>Praticar esporte</td>\n",
       "    </tr>\n",
       "    <tr>\n",
       "      <th>3</th>\n",
       "      <td>10142881</td>\n",
       "      <td>2020-12-31</td>\n",
       "      <td>Masculino</td>\n",
       "      <td>1952-07-30</td>\n",
       "      <td>gato</td>\n",
       "      <td>frio</td>\n",
       "      <td>refrigerante</td>\n",
       "      <td>Assistir TV</td>\n",
       "    </tr>\n",
       "    <tr>\n",
       "      <th>4</th>\n",
       "      <td>10143184</td>\n",
       "      <td>2020-12-31</td>\n",
       "      <td>Masculino</td>\n",
       "      <td>1984-06-05</td>\n",
       "      <td>tartaruga</td>\n",
       "      <td>quente</td>\n",
       "      <td>refrigerante</td>\n",
       "      <td>Pintar quadros</td>\n",
       "    </tr>\n",
       "  </tbody>\n",
       "</table>\n",
       "</div>"
      ],
      "text/plain": [
       "   cod_pessoa data_coleta     genero data_nascimento animal_estimacao  \\\n",
       "0    10142416  2020-12-31  Masculino      1996-05-07             gato   \n",
       "1    10142475  2020-12-31  Masculino      1955-05-30            peixe   \n",
       "2    10142522  2020-12-31  Masculino      1954-12-22            peixe   \n",
       "3    10142881  2020-12-31  Masculino      1952-07-30             gato   \n",
       "4    10143184  2020-12-31  Masculino      1984-06-05        tartaruga   \n",
       "\n",
       "      clima bebida_favorita           hobbies  \n",
       "0      frio         Cerveja    Pintar quadros  \n",
       "1    quente            Café  Praticar esporte  \n",
       "2  moderado         Cerveja  Praticar esporte  \n",
       "3      frio    refrigerante       Assistir TV  \n",
       "4    quente    refrigerante    Pintar quadros  "
      ]
     },
     "execution_count": 15,
     "metadata": {},
     "output_type": "execute_result"
    }
   ],
   "source": [
    "df.head(5)"
   ]
  },
  {
   "cell_type": "code",
   "execution_count": 18,
   "id": "91ae2f77-727a-4f46-9dec-36fd2f837e43",
   "metadata": {},
   "outputs": [],
   "source": [
    "df_total = pd.concat(lista_arquivo)"
   ]
  },
  {
   "cell_type": "code",
   "execution_count": 20,
   "id": "16d080d9-2ace-463c-a6d2-51fa50537dfa",
   "metadata": {},
   "outputs": [
    {
     "data": {
      "text/plain": [
       "cod_pessoa          2127\n",
       "data_coleta         2127\n",
       "genero              2127\n",
       "data_nascimento     2127\n",
       "animal_estimacao    2127\n",
       "clima               2127\n",
       "bebida_favorita     2127\n",
       "hobbies             2127\n",
       "dtype: int64"
      ]
     },
     "execution_count": 20,
     "metadata": {},
     "output_type": "execute_result"
    }
   ],
   "source": [
    "df_total.count()"
   ]
  },
  {
   "cell_type": "code",
   "execution_count": 21,
   "id": "37be4751-4d83-423b-b722-b4b5f1889475",
   "metadata": {},
   "outputs": [],
   "source": [
    "#transformar o arquivo em um unico arquivo csv\n",
    "\n",
    "df_total.to_csv(diretorio_destino +'\\pesquisas_completo.csv', sep = \";\", encoding = 'latin-1', index = False)"
   ]
  },
  {
   "cell_type": "code",
   "execution_count": 22,
   "id": "423a11f2-1281-44bb-ab16-a6742e4a0c27",
   "metadata": {},
   "outputs": [],
   "source": [
    "arquivo = os.path.join(diretorio_destino,'pesquisas_completo.csv')\n",
    "\n",
    "pesquisa_completo = pd.read_csv(arquivo, sep = ';', encoding= 'latin-1')"
   ]
  },
  {
   "cell_type": "code",
   "execution_count": 23,
   "id": "c55c5e8f-7adb-491e-81b3-4bb283bb1d55",
   "metadata": {},
   "outputs": [
    {
     "data": {
      "text/plain": [
       "cod_pessoa          2127\n",
       "data_coleta         2127\n",
       "genero              2127\n",
       "data_nascimento     2127\n",
       "animal_estimacao    2127\n",
       "clima               2127\n",
       "bebida_favorita     2127\n",
       "hobbies             2127\n",
       "dtype: int64"
      ]
     },
     "execution_count": 23,
     "metadata": {},
     "output_type": "execute_result"
    }
   ],
   "source": [
    "pesquisa_completo.count()"
   ]
  },
  {
   "cell_type": "code",
   "execution_count": null,
   "id": "47e84445-8d60-40cd-bef8-42e689ebd35f",
   "metadata": {},
   "outputs": [],
   "source": [
    "#verifica valores nulos\n",
    "pesquisa_completo.isna().sum()"
   ]
  },
  {
   "cell_type": "code",
   "execution_count": null,
   "id": "a2b876a4-c5f6-45ef-822b-a775ce8c1172",
   "metadata": {},
   "outputs": [],
   "source": [
    "#bibliotecas para conectar com o banco de dados MySQL\n",
    "\n",
    "import MySQLdb\n",
    "import sqlalchemy\n",
    "import mysql.connector"
   ]
  },
  {
   "cell_type": "code",
   "execution_count": null,
   "id": "57fe22f3-3df1-4169-9e6f-1ec614ca47a3",
   "metadata": {},
   "outputs": [],
   "source": [
    "#conexão com a base de dados\n",
    "\n",
    "user = 'root'\n",
    "password = 'IGTExpKAKA'\n",
    "host = 'localhost'\n",
    "port = '3307'\n",
    "database = 'pesquisa_db'\n",
    "\n",
    "string_conexao = f'mysql://{user}:{password}@{host}:{port}/{database}'\n",
    "string_conexao"
   ]
  },
  {
   "cell_type": "code",
   "execution_count": null,
   "id": "aebee5ae-ffc4-464e-93c6-e19a0b7193ee",
   "metadata": {},
   "outputs": [],
   "source": [
    "engine = sqlalchemy.create_engine(string_conexao, future=True)"
   ]
  },
  {
   "cell_type": "code",
   "execution_count": null,
   "id": "d6b18c40-4caf-4b61-a1fd-9f21c7f22582",
   "metadata": {},
   "outputs": [],
   "source": [
    "conn = engine.connect()"
   ]
  },
  {
   "cell_type": "code",
   "execution_count": null,
   "id": "799476d9-8255-4981-a18d-1932c61b671f",
   "metadata": {},
   "outputs": [],
   "source": [
    "animal = list(pesquisa_completo.animal_estimacao.unique())\n",
    "print(animal)"
   ]
  },
  {
   "cell_type": "code",
   "execution_count": null,
   "id": "9252ea50-1118-43ee-8b23-e80f20bb3f37",
   "metadata": {},
   "outputs": [],
   "source": [
    "for valor in animal:\n",
    "    try:\n",
    "        query = f\"\"\"INSERT INTO animal_estimacao (animal) VALUES ('{valor}')\"\"\"\n",
    "        conn.execute(sqlalchemy.text(query))\n",
    "        conn.commit()\n",
    "        print(f\"Registro inserido com sucesso: {valor}\")\n",
    "    except Exception as e:\n",
    "        print(f\"Não foi possivel inserir o registro {valor}. O erro encontrado foi {e}\")"
   ]
  },
  {
   "cell_type": "code",
   "execution_count": null,
   "id": "a013d47e-477c-4ebc-8c1c-1dbc0a38e309",
   "metadata": {},
   "outputs": [],
   "source": [
    "bebida = list(pesquisa_completo.bebida_favorita.unique())\n",
    "print(bebida)"
   ]
  },
  {
   "cell_type": "code",
   "execution_count": null,
   "id": "aa9dface-c55f-4f01-98c8-a8d9b2cdd186",
   "metadata": {},
   "outputs": [],
   "source": [
    "#insere o valor na tabela verificando se tem duplicadas com base na coluna bebida\n",
    "\n",
    "for valor in bebida:\n",
    "    try:\n",
    "        query_select = f\"\"\"SELECT COUNT(*) FROM bebida WHERE bebida = '{valor}'\"\"\"\n",
    "        result = conn.execute(sqlalchemy.text(query_select)).scalar()\n",
    "        if result == 0:\n",
    "            query = f\"\"\"INSERT INTO bebida (bebida) VALUES ('{valor}')\"\"\"\n",
    "            conn.execute(sqlalchemy.text(query))\n",
    "            conn.commit()\n",
    "            print(f\"Registro inserido com sucesso {valor}\")\n",
    "        else:\n",
    "            print(f\"Registro já existe no banco de dados: {valor}\")\n",
    "    except Exception as e:\n",
    "        print(f\"Não foi possível inserir o registro {valor}. Erro: {e}.\")"
   ]
  },
  {
   "cell_type": "code",
   "execution_count": null,
   "id": "40c13728-8fd0-4040-9cf5-aeaf181bce5f",
   "metadata": {},
   "outputs": [],
   "source": [
    "clima = list(pesquisa_completo.clima.unique())\n",
    "print(clima)"
   ]
  },
  {
   "cell_type": "code",
   "execution_count": null,
   "id": "199f85d6-5e43-4be5-b324-a059257e6786",
   "metadata": {},
   "outputs": [],
   "source": [
    "for valor in clima:\n",
    "    try:\n",
    "        query_select = f\"\"\"SELECT COUNT(*) FROM clima WHERE clima = '{valor}'\"\"\"\n",
    "        result = conn.execute(sqlalchemy.text(query_select)).scalar()\n",
    "        if result == 0:\n",
    "            query = f\"\"\"INSERT INTO clima (clima) VALUES ('{valor}')\"\"\"\n",
    "            conn.execute(sqlalchemy.text(query))\n",
    "            conn.commit()\n",
    "            print(f\"Registro inserido com sucesso: {valor}\")\n",
    "        else:\n",
    "            print(f\"Registro já existe no banco de dados: {valor}\")\n",
    "    except Exception as e:\n",
    "        print(f\"Não foi possível inserir o registro {valor}. Erro: {e}.\")"
   ]
  },
  {
   "cell_type": "code",
   "execution_count": null,
   "id": "dbcea885-c119-4797-b540-de2c398bbc9f",
   "metadata": {},
   "outputs": [],
   "source": [
    "hobbie = list(pesquisa_completo.hobbies.unique())\n",
    "print(hobbie)"
   ]
  },
  {
   "cell_type": "code",
   "execution_count": null,
   "id": "5d4fcfab-d50b-4c8f-9a88-d58dfa309f46",
   "metadata": {},
   "outputs": [],
   "source": [
    "for valor in hobbie:\n",
    "    try:\n",
    "        query_select = f\"\"\"SELECT COUNT(*) FROM hobbie WHERE hobbie = '{valor}'\"\"\"\n",
    "        result = conn.execute(sqlalchemy.text(query_select)).scalar()\n",
    "        if result == 0:\n",
    "            query = f\"\"\"INSERT INTO hobbie (hobbie) VALUES ('{valor}')\"\"\"\n",
    "            conn.execute(sqlalchemy.text(query))\n",
    "            conn.commit()\n",
    "            print(f\"Registro inserido com sucesso: {valor}\")\n",
    "        else:\n",
    "            print(f\"Registro já existe no banco de dados: {valor}\")\n",
    "    except Exception as e:\n",
    "        print(f\"Não foi possível inserir o registro {valor}. Erro: {e}.\")"
   ]
  },
  {
   "cell_type": "code",
   "execution_count": null,
   "id": "d3a35fa2-61e8-4876-a611-5ae57ec424c7",
   "metadata": {},
   "outputs": [],
   "source": [
    "df_pessoas = pesquisa_completo[['cod_pessoa','genero','data_nascimento']]"
   ]
  },
  {
   "cell_type": "code",
   "execution_count": null,
   "id": "3989b7ee-db92-4405-98dd-686a4d338fe2",
   "metadata": {},
   "outputs": [],
   "source": [
    "df_pessoas.head(5)"
   ]
  },
  {
   "cell_type": "code",
   "execution_count": null,
   "id": "572fcca3-30b0-44ea-8a30-a5629589f5ed",
   "metadata": {},
   "outputs": [],
   "source": [
    "for valor in df_pessoas.itertuples():\n",
    "    cod_pessoa = valor.cod_pessoa\n",
    "    genero = valor.genero\n",
    "    data_nascimento = valor.data_nascimento\n",
    "    try:\n",
    "        query_select = f\"\"\"SELECT COUNT(*) FROM pessoa WHERE cod_pessoa = '{cod_pessoa}'\"\"\"\n",
    "        result = conn.execute(sqlalchemy.text(query_select)).scalar()\n",
    "        if result == 0:\n",
    "            query = f\"\"\"INSERT INTO pessoa (cod_pessoa, genero, data_nascimento)\n",
    "                        VALUES ('{cod_pessoa}','{genero}','{data_nascimento}')\"\"\"\n",
    "            conn.execute(sqlalchemy.text(query))\n",
    "            conn.commit()\n",
    "            print(f\"Registro atualizado: {cod_pessoa}\")\n",
    "        else:\n",
    "            print(f\"Registro já existe: {cod_pessoa}\")\n",
    "    except Exception as e:\n",
    "        print(f\"Registro não atualizado. Erro: {e}\")"
   ]
  },
  {
   "cell_type": "code",
   "execution_count": null,
   "id": "46d29b00-3798-40ad-957d-c316d7818ec1",
   "metadata": {},
   "outputs": [],
   "source": [
    "#validando se foram apenas valores unicos para a base de dados\n",
    "valors = pesquisa_completo['cod_pessoa'].nunique()\n",
    "print(valors)"
   ]
  },
  {
   "cell_type": "code",
   "execution_count": null,
   "id": "e16b6f54-f9d7-435b-b678-a6de850f6b9d",
   "metadata": {},
   "outputs": [],
   "source": [
    "df_tb_animal_ = pd.read_sql('animal_estimacao', con = conn)\n",
    "dict_tb_animal = df_tb_animal_.set_index(df_tb_animal_.animal)['cod_animal_estimacao'].to_dict()\n",
    "dict_tb_animal"
   ]
  },
  {
   "cell_type": "code",
   "execution_count": null,
   "id": "deab52cf-e988-47e8-90a2-3aebd3b8966e",
   "metadata": {},
   "outputs": [],
   "source": [
    "pesquisa_completo.animal_estimacao = pesquisa_completo.animal_estimacao.map(dict_tb_animal)\n",
    "pesquisa_completo.head(5)"
   ]
  },
  {
   "cell_type": "code",
   "execution_count": null,
   "id": "9a8243b3-e871-4295-b2bc-aee7cbb38690",
   "metadata": {},
   "outputs": [],
   "source": [
    "df_tb_bebida = pd.read_sql('bebida', con = conn)\n",
    "dict_tb_bebida = df_tb_bebida.set_index(df_tb_bebida.bebida)['cod_bebida'].to_dict()\n",
    "dict_tb_bebida"
   ]
  },
  {
   "cell_type": "code",
   "execution_count": null,
   "id": "e89691b2-1c40-44af-86cc-9008119ae431",
   "metadata": {},
   "outputs": [],
   "source": [
    "pesquisa_completo.bebida_favorita = pesquisa_completo.bebida_favorita.map(dict_tb_bebida)\n",
    "pesquisa_completo.head(5)"
   ]
  },
  {
   "cell_type": "code",
   "execution_count": null,
   "id": "24091bf8-7b6c-4621-80ca-fd97259372bb",
   "metadata": {},
   "outputs": [],
   "source": [
    "df_tb_hobbie = pd.read_sql('hobbie', con = conn)\n",
    "dict_tb_hobbie = df_tb_hobbie.set_index(df_tb_hobbie.hobbie)['cod_hobbie'].to_dict()\n",
    "dict_tb_hobbie"
   ]
  },
  {
   "cell_type": "code",
   "execution_count": null,
   "id": "38049bca-ee8a-4c2b-84cb-85c71497be63",
   "metadata": {},
   "outputs": [],
   "source": [
    "pesquisa_completo.hobbies = pesquisa_completo.hobbies.map(dict_tb_hobbie)\n",
    "pesquisa_completo.head(5)"
   ]
  },
  {
   "cell_type": "code",
   "execution_count": null,
   "id": "6149e3de-b94d-44a3-9964-c3bfc5863acb",
   "metadata": {},
   "outputs": [],
   "source": [
    "df_tb_clima = pd.read_sql('clima', con = conn)\n",
    "dict_tb_clima = df_tb_clima.set_index(df_tb_clima.clima)['cod_clima'].to_dict()\n",
    "dict_tb_clima"
   ]
  },
  {
   "cell_type": "code",
   "execution_count": null,
   "id": "68c1ae94-2f95-417b-8427-e555d4034fb0",
   "metadata": {},
   "outputs": [],
   "source": [
    "pesquisa_completo.clima = pesquisa_completo.clima.map(dict_tb_clima)\n",
    "pesquisa_completo.head(5)"
   ]
  },
  {
   "cell_type": "code",
   "execution_count": null,
   "id": "27582bba-2581-4ba9-b87a-772962876ce0",
   "metadata": {},
   "outputs": [],
   "source": [
    "for valor in pesquisa_completo.itertuples():\n",
    "    data_pesquisa = valor.data_coleta\n",
    "    cod_pessoa = valor.cod_pessoa\n",
    "    cod_animal_estimacao = valor.animal_estimacao\n",
    "    cod_bebida = valor.bebida_favorita\n",
    "    cod_hobbie = valor.hobbies\n",
    "    cod_clima = valor.clima\n",
    "    try:\n",
    "        query_select = f\"\"\"SELECT COUNT(*) FROM pesquisa WHERE cod_pessoa = '{cod_pessoa}'\"\"\"\n",
    "        result = conn.execute(sqlalchemy.text(query_select)).scalar()\n",
    "        if result == 0:\n",
    "            query = f\"\"\"INSERT INTO pesquisa (data_pesquisa, cod_pessoa, cod_animal_estimacao, cod_bebida, cod_hobbie, cod_clima)\n",
    "                        VALUES ('{data_pesquisa}','{cod_pessoa}','{cod_animal_estimacao}','{cod_bebida}','{cod_hobbie}','{cod_clima}')\"\"\"\n",
    "            conn.execute(sqlalchemy.text(query))\n",
    "            conn.commit()\n",
    "            print(f\"Registro inserido: {cod_pessoa}\")\n",
    "        else:\n",
    "            print(f\"Registro já existe: {cod_pessoa}\")\n",
    "    except Exception as e:\n",
    "        print(f\"Registro não atualizado. Erro: {e}.\")\n",
    "        "
   ]
  }
 ],
 "metadata": {
  "kernelspec": {
   "display_name": "Python 3 (ipykernel)",
   "language": "python",
   "name": "python3"
  },
  "language_info": {
   "codemirror_mode": {
    "name": "ipython",
    "version": 3
   },
   "file_extension": ".py",
   "mimetype": "text/x-python",
   "name": "python",
   "nbconvert_exporter": "python",
   "pygments_lexer": "ipython3",
   "version": "3.11.0"
  }
 },
 "nbformat": 4,
 "nbformat_minor": 5
}
