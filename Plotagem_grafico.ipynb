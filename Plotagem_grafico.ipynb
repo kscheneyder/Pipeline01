{
 "cells": [
  {
   "cell_type": "code",
   "execution_count": 10,
   "id": "7891cc6e-b115-4a44-bea2-fc9e31d60019",
   "metadata": {},
   "outputs": [],
   "source": [
    "import pandas as pd\n",
    "import os\n",
    "import matplotlib.pyplot as plt\n",
    "from datetime import datetime"
   ]
  },
  {
   "cell_type": "code",
   "execution_count": 3,
   "id": "9f34e6c5-b1ae-4ba7-809e-a321c37174df",
   "metadata": {},
   "outputs": [
    {
     "data": {
      "text/html": [
       "<div>\n",
       "<style scoped>\n",
       "    .dataframe tbody tr th:only-of-type {\n",
       "        vertical-align: middle;\n",
       "    }\n",
       "\n",
       "    .dataframe tbody tr th {\n",
       "        vertical-align: top;\n",
       "    }\n",
       "\n",
       "    .dataframe thead th {\n",
       "        text-align: right;\n",
       "    }\n",
       "</style>\n",
       "<table border=\"1\" class=\"dataframe\">\n",
       "  <thead>\n",
       "    <tr style=\"text-align: right;\">\n",
       "      <th></th>\n",
       "      <th>cod_pessoa</th>\n",
       "      <th>data_coleta</th>\n",
       "      <th>genero</th>\n",
       "      <th>data_nascimento</th>\n",
       "      <th>animal_estimacao</th>\n",
       "      <th>clima</th>\n",
       "      <th>bebida_favorita</th>\n",
       "      <th>hobbies</th>\n",
       "    </tr>\n",
       "  </thead>\n",
       "  <tbody>\n",
       "    <tr>\n",
       "      <th>0</th>\n",
       "      <td>10141743</td>\n",
       "      <td>2020-01-01</td>\n",
       "      <td>Masculino</td>\n",
       "      <td>1981-04-25</td>\n",
       "      <td>peixe</td>\n",
       "      <td>frio</td>\n",
       "      <td>Cerveja</td>\n",
       "      <td>Praticar esporte</td>\n",
       "    </tr>\n",
       "    <tr>\n",
       "      <th>1</th>\n",
       "      <td>10141860</td>\n",
       "      <td>2020-01-01</td>\n",
       "      <td>Feminino</td>\n",
       "      <td>1966-01-19</td>\n",
       "      <td>peixe</td>\n",
       "      <td>quente</td>\n",
       "      <td>Café</td>\n",
       "      <td>Assistir TV</td>\n",
       "    </tr>\n",
       "    <tr>\n",
       "      <th>2</th>\n",
       "      <td>10142548</td>\n",
       "      <td>2020-01-01</td>\n",
       "      <td>Masculino</td>\n",
       "      <td>1973-08-02</td>\n",
       "      <td>tartaruga</td>\n",
       "      <td>frio</td>\n",
       "      <td>Café</td>\n",
       "      <td>Ler livros</td>\n",
       "    </tr>\n",
       "    <tr>\n",
       "      <th>3</th>\n",
       "      <td>10142591</td>\n",
       "      <td>2020-01-01</td>\n",
       "      <td>Masculino</td>\n",
       "      <td>1997-03-05</td>\n",
       "      <td>gato</td>\n",
       "      <td>moderado</td>\n",
       "      <td>Cerveja</td>\n",
       "      <td>Aprender algo novo</td>\n",
       "    </tr>\n",
       "    <tr>\n",
       "      <th>4</th>\n",
       "      <td>10142654</td>\n",
       "      <td>2020-01-01</td>\n",
       "      <td>Feminino</td>\n",
       "      <td>1969-08-05</td>\n",
       "      <td>tartaruga</td>\n",
       "      <td>moderado</td>\n",
       "      <td>Café</td>\n",
       "      <td>Assistir TV</td>\n",
       "    </tr>\n",
       "  </tbody>\n",
       "</table>\n",
       "</div>"
      ],
      "text/plain": [
       "   cod_pessoa data_coleta     genero data_nascimento animal_estimacao  \\\n",
       "0    10141743  2020-01-01  Masculino      1981-04-25            peixe   \n",
       "1    10141860  2020-01-01   Feminino      1966-01-19            peixe   \n",
       "2    10142548  2020-01-01  Masculino      1973-08-02        tartaruga   \n",
       "3    10142591  2020-01-01  Masculino      1997-03-05             gato   \n",
       "4    10142654  2020-01-01   Feminino      1969-08-05        tartaruga   \n",
       "\n",
       "      clima bebida_favorita             hobbies  \n",
       "0      frio         Cerveja    Praticar esporte  \n",
       "1    quente            Café         Assistir TV  \n",
       "2      frio            Café          Ler livros  \n",
       "3  moderado         Cerveja  Aprender algo novo  \n",
       "4  moderado            Café         Assistir TV  "
      ]
     },
     "execution_count": 3,
     "metadata": {},
     "output_type": "execute_result"
    }
   ],
   "source": [
    "diretorio_destino = 'C:\\\\survey_data'\n",
    "arquivo = os.path.join(diretorio_destino,'pesquisas_completo.csv')\n",
    "pesquisa_completo = pd.read_csv(arquivo, sep = ';', encoding= 'latin-1')\n",
    "pesquisa_completo.head(5)"
   ]
  },
  {
   "cell_type": "code",
   "execution_count": 4,
   "id": "98addcee-4d4f-4bf8-8512-6f3b69f3d21d",
   "metadata": {},
   "outputs": [
    {
     "data": {
      "text/plain": [
       "cod_pessoa          2127\n",
       "data_coleta         2127\n",
       "genero              2127\n",
       "data_nascimento     2127\n",
       "animal_estimacao    2127\n",
       "clima               2127\n",
       "bebida_favorita     2127\n",
       "hobbies             2127\n",
       "dtype: int64"
      ]
     },
     "execution_count": 4,
     "metadata": {},
     "output_type": "execute_result"
    }
   ],
   "source": [
    "pesquisa_completo.count()"
   ]
  },
  {
   "cell_type": "code",
   "execution_count": 21,
   "id": "5c0e47db-d54e-4ab4-af62-0854f8036018",
   "metadata": {},
   "outputs": [
    {
     "name": "stdout",
     "output_type": "stream",
     "text": [
      "cod_pessoa                   int64\n",
      "data_coleta                 object\n",
      "genero                      object\n",
      "data_nascimento     datetime64[ns]\n",
      "animal_estimacao            object\n",
      "clima                       object\n",
      "bebida_favorita             object\n",
      "hobbies                     object\n",
      "dtype: object\n"
     ]
    }
   ],
   "source": [
    "data = pesquisa_completo.dtypes\n",
    "print(data)"
   ]
  },
  {
   "cell_type": "code",
   "execution_count": 18,
   "id": "7ecda33c-0a6f-415e-ad94-a2458a673b7b",
   "metadata": {},
   "outputs": [],
   "source": [
    "pesquisa_completo['data_nascimento'] = pd.to_datetime(pesquisa_completo['data_nascimento'])"
   ]
  },
  {
   "cell_type": "code",
   "execution_count": 25,
   "id": "db06e025-4c53-4705-b7e9-f24bbefc2a7d",
   "metadata": {},
   "outputs": [
    {
     "data": {
      "text/html": [
       "<div>\n",
       "<style scoped>\n",
       "    .dataframe tbody tr th:only-of-type {\n",
       "        vertical-align: middle;\n",
       "    }\n",
       "\n",
       "    .dataframe tbody tr th {\n",
       "        vertical-align: top;\n",
       "    }\n",
       "\n",
       "    .dataframe thead th {\n",
       "        text-align: right;\n",
       "    }\n",
       "</style>\n",
       "<table border=\"1\" class=\"dataframe\">\n",
       "  <thead>\n",
       "    <tr style=\"text-align: right;\">\n",
       "      <th></th>\n",
       "      <th>cod_pessoa</th>\n",
       "      <th>data_coleta</th>\n",
       "      <th>genero</th>\n",
       "      <th>data_nascimento</th>\n",
       "      <th>animal_estimacao</th>\n",
       "      <th>clima</th>\n",
       "      <th>bebida_favorita</th>\n",
       "      <th>hobbies</th>\n",
       "      <th>idade</th>\n",
       "    </tr>\n",
       "  </thead>\n",
       "  <tbody>\n",
       "    <tr>\n",
       "      <th>0</th>\n",
       "      <td>10141743</td>\n",
       "      <td>2020-01-01</td>\n",
       "      <td>Masculino</td>\n",
       "      <td>1981-04-25</td>\n",
       "      <td>peixe</td>\n",
       "      <td>frio</td>\n",
       "      <td>Cerveja</td>\n",
       "      <td>Praticar esporte</td>\n",
       "      <td>43</td>\n",
       "    </tr>\n",
       "    <tr>\n",
       "      <th>1</th>\n",
       "      <td>10141860</td>\n",
       "      <td>2020-01-01</td>\n",
       "      <td>Feminino</td>\n",
       "      <td>1966-01-19</td>\n",
       "      <td>peixe</td>\n",
       "      <td>quente</td>\n",
       "      <td>Café</td>\n",
       "      <td>Assistir TV</td>\n",
       "      <td>58</td>\n",
       "    </tr>\n",
       "    <tr>\n",
       "      <th>2</th>\n",
       "      <td>10142548</td>\n",
       "      <td>2020-01-01</td>\n",
       "      <td>Masculino</td>\n",
       "      <td>1973-08-02</td>\n",
       "      <td>tartaruga</td>\n",
       "      <td>frio</td>\n",
       "      <td>Café</td>\n",
       "      <td>Ler livros</td>\n",
       "      <td>51</td>\n",
       "    </tr>\n",
       "    <tr>\n",
       "      <th>3</th>\n",
       "      <td>10142591</td>\n",
       "      <td>2020-01-01</td>\n",
       "      <td>Masculino</td>\n",
       "      <td>1997-03-05</td>\n",
       "      <td>gato</td>\n",
       "      <td>moderado</td>\n",
       "      <td>Cerveja</td>\n",
       "      <td>Aprender algo novo</td>\n",
       "      <td>27</td>\n",
       "    </tr>\n",
       "    <tr>\n",
       "      <th>4</th>\n",
       "      <td>10142654</td>\n",
       "      <td>2020-01-01</td>\n",
       "      <td>Feminino</td>\n",
       "      <td>1969-08-05</td>\n",
       "      <td>tartaruga</td>\n",
       "      <td>moderado</td>\n",
       "      <td>Café</td>\n",
       "      <td>Assistir TV</td>\n",
       "      <td>55</td>\n",
       "    </tr>\n",
       "  </tbody>\n",
       "</table>\n",
       "</div>"
      ],
      "text/plain": [
       "   cod_pessoa data_coleta     genero data_nascimento animal_estimacao  \\\n",
       "0    10141743  2020-01-01  Masculino      1981-04-25            peixe   \n",
       "1    10141860  2020-01-01   Feminino      1966-01-19            peixe   \n",
       "2    10142548  2020-01-01  Masculino      1973-08-02        tartaruga   \n",
       "3    10142591  2020-01-01  Masculino      1997-03-05             gato   \n",
       "4    10142654  2020-01-01   Feminino      1969-08-05        tartaruga   \n",
       "\n",
       "      clima bebida_favorita             hobbies  idade  \n",
       "0      frio         Cerveja    Praticar esporte     43  \n",
       "1    quente            Café         Assistir TV     58  \n",
       "2      frio            Café          Ler livros     51  \n",
       "3  moderado         Cerveja  Aprender algo novo     27  \n",
       "4  moderado            Café         Assistir TV     55  "
      ]
     },
     "execution_count": 25,
     "metadata": {},
     "output_type": "execute_result"
    }
   ],
   "source": [
    "hoje = datetime.now()\n",
    "pesquisa_completo['idade'] = hoje.year - pesquisa_completo['data_nascimento'].dt.year\n",
    "pesquisa_completo.head(5)"
   ]
  },
  {
   "cell_type": "code",
   "execution_count": 26,
   "id": "fbfb754f-63b1-41f1-b524-deb3bac47789",
   "metadata": {},
   "outputs": [
    {
     "data": {
      "text/plain": [
       "cod_pessoa          133\n",
       "data_coleta         133\n",
       "genero              133\n",
       "data_nascimento     133\n",
       "animal_estimacao    133\n",
       "clima               133\n",
       "bebida_favorita     133\n",
       "hobbies             133\n",
       "idade               133\n",
       "dtype: int64"
      ]
     },
     "execution_count": 26,
     "metadata": {},
     "output_type": "execute_result"
    }
   ],
   "source": [
    "#Criar um grafico de barras que mostre aquantidade de pessoas de acordo com a idade na linha Y que gostam de frio e chá\n",
    "graph1 = pesquisa_completo.loc[(pesquisa_completo['clima'] == 'frio') & (pesquisa_completo['bebida_favorita'] == 'Chá')]\n",
    "\n",
    "graph1.count()"
   ]
  },
  {
   "cell_type": "code",
   "execution_count": 28,
   "id": "111348d9-ca2f-4f17-8e5e-d188e1e7bb2d",
   "metadata": {},
   "outputs": [
    {
     "data": {
      "text/html": [
       "<div>\n",
       "<style scoped>\n",
       "    .dataframe tbody tr th:only-of-type {\n",
       "        vertical-align: middle;\n",
       "    }\n",
       "\n",
       "    .dataframe tbody tr th {\n",
       "        vertical-align: top;\n",
       "    }\n",
       "\n",
       "    .dataframe thead th {\n",
       "        text-align: right;\n",
       "    }\n",
       "</style>\n",
       "<table border=\"1\" class=\"dataframe\">\n",
       "  <thead>\n",
       "    <tr style=\"text-align: right;\">\n",
       "      <th></th>\n",
       "      <th>cod_pessoa</th>\n",
       "      <th>data_coleta</th>\n",
       "      <th>genero</th>\n",
       "      <th>data_nascimento</th>\n",
       "      <th>animal_estimacao</th>\n",
       "      <th>clima</th>\n",
       "      <th>bebida_favorita</th>\n",
       "      <th>hobbies</th>\n",
       "      <th>idade</th>\n",
       "    </tr>\n",
       "  </thead>\n",
       "  <tbody>\n",
       "    <tr>\n",
       "      <th>12</th>\n",
       "      <td>10141987</td>\n",
       "      <td>2020-01-03</td>\n",
       "      <td>Feminino</td>\n",
       "      <td>1978-04-23</td>\n",
       "      <td>cachorro</td>\n",
       "      <td>frio</td>\n",
       "      <td>Chá</td>\n",
       "      <td>Escrever</td>\n",
       "      <td>46</td>\n",
       "    </tr>\n",
       "    <tr>\n",
       "      <th>27</th>\n",
       "      <td>10142471</td>\n",
       "      <td>2020-01-05</td>\n",
       "      <td>Masculino</td>\n",
       "      <td>1979-02-23</td>\n",
       "      <td>cachorro</td>\n",
       "      <td>frio</td>\n",
       "      <td>Chá</td>\n",
       "      <td>Aprender algo novo</td>\n",
       "      <td>45</td>\n",
       "    </tr>\n",
       "    <tr>\n",
       "      <th>28</th>\n",
       "      <td>10142597</td>\n",
       "      <td>2020-01-05</td>\n",
       "      <td>Masculino</td>\n",
       "      <td>1981-07-18</td>\n",
       "      <td>gato</td>\n",
       "      <td>frio</td>\n",
       "      <td>Chá</td>\n",
       "      <td>Ler livros</td>\n",
       "      <td>43</td>\n",
       "    </tr>\n",
       "    <tr>\n",
       "      <th>29</th>\n",
       "      <td>10143070</td>\n",
       "      <td>2020-01-05</td>\n",
       "      <td>Masculino</td>\n",
       "      <td>1989-09-24</td>\n",
       "      <td>cachorro</td>\n",
       "      <td>frio</td>\n",
       "      <td>Chá</td>\n",
       "      <td>Ler livros</td>\n",
       "      <td>35</td>\n",
       "    </tr>\n",
       "    <tr>\n",
       "      <th>39</th>\n",
       "      <td>10141581</td>\n",
       "      <td>2020-01-08</td>\n",
       "      <td>Feminino</td>\n",
       "      <td>1978-09-19</td>\n",
       "      <td>tartaruga</td>\n",
       "      <td>frio</td>\n",
       "      <td>Chá</td>\n",
       "      <td>Assistir TV</td>\n",
       "      <td>46</td>\n",
       "    </tr>\n",
       "  </tbody>\n",
       "</table>\n",
       "</div>"
      ],
      "text/plain": [
       "    cod_pessoa data_coleta     genero data_nascimento animal_estimacao clima  \\\n",
       "12    10141987  2020-01-03   Feminino      1978-04-23         cachorro  frio   \n",
       "27    10142471  2020-01-05  Masculino      1979-02-23         cachorro  frio   \n",
       "28    10142597  2020-01-05  Masculino      1981-07-18             gato  frio   \n",
       "29    10143070  2020-01-05  Masculino      1989-09-24         cachorro  frio   \n",
       "39    10141581  2020-01-08   Feminino      1978-09-19        tartaruga  frio   \n",
       "\n",
       "   bebida_favorita             hobbies  idade  \n",
       "12             Chá            Escrever     46  \n",
       "27             Chá  Aprender algo novo     45  \n",
       "28             Chá          Ler livros     43  \n",
       "29             Chá          Ler livros     35  \n",
       "39             Chá         Assistir TV     46  "
      ]
     },
     "execution_count": 28,
     "metadata": {},
     "output_type": "execute_result"
    }
   ],
   "source": [
    "graph1.head(5)"
   ]
  },
  {
   "cell_type": "code",
   "execution_count": 31,
   "id": "0dcee5c6-18eb-426b-a237-6e6194481ebb",
   "metadata": {},
   "outputs": [
    {
     "data": {
      "image/png": "[encoded data removed]",
      "text/plain": [
       "<Figure size 800x700 with 1 Axes>"
      ]
     },
     "metadata": {},
     "output_type": "display_data"
    }
   ],
   "source": [
    "#plotando um grafico\n",
    "graph1.hist(column='idade', figsize=(8,7),bins=15)\n",
    "plt.show()"
   ]
  },
  {
   "cell_type": "code",
   "execution_count": null,
   "id": "4cfa0604-e70e-4b09-964c-3f891e328407",
   "metadata": {},
   "outputs": [],
   "source": []
  }
 ],
 "metadata": {
  "kernelspec": {
   "display_name": "Python 3 (ipykernel)",
   "language": "python",
   "name": "python3"
  },
  "language_info": {
   "codemirror_mode": {
    "name": "ipython",
    "version": 3
   },
   "file_extension": ".py",
   "mimetype": "text/x-python",
   "name": "python",
   "nbconvert_exporter": "python",
   "pygments_lexer": "ipython3",
   "version": "3.11.0"
  }
 },
 "nbformat": 4,
 "nbformat_minor": 5
}
